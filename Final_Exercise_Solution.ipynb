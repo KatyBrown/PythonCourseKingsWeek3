{
 "cells": [
  {
   "cell_type": "markdown",
   "metadata": {},
   "source": [
    "# Final Exercise Solution"
   ]
  },
  {
   "cell_type": "markdown",
   "metadata": {},
   "source": [
    "* Read the tab delimited table `student_data.txt` into Python using pandas\n",
    "* Display the table in jupyter\n",
    "* Import the module `numpy` and use the `numpy.mean` function to calculate the mean age and mean score.\n",
    "* Write a function called `score_percentage` which returns the score as a percentage of 50.\n",
    "* Using a `for` loop calculate the score percentage for each person and store it in a list.\n",
    "* Add this list to a table column called \"Score_Percentage\"\n",
    "* Plot the score percentage using `matplotlib`, with student names as labels on the x axis and score percentage on the y axis\n",
    "* Write a function to assign each student a score of \"A\" if their score percentage is greater than or equal to 70, \"B\" if their score percentage is greater than or equal to 60 but less than 70 and \"C\" if their score percentage is less than 60.\n",
    "* Use this function to generate a \"Final_Grade\" column and add it to the table\n",
    "* Plot a bar chart using matplotlib to show how many students got an \"A\", how many got a \"B\" and how many got a \"C\".  Change the colour and save the bar chart.\n",
    "* Assign each student a random ID number using the random.randint function and add these to the table.\n",
    "* Store the table in a tab delimted output file.\n",
    "* Using string formatting and a `for` loop, make an output file called [Name].txt for each student which says \"Dear [Name], your score was [score_percentage] and your grade was [Final_Grade]\", based on the data in the table (fill in the square brackets with the correct data)."
   ]
  },
  {
   "cell_type": "code",
   "execution_count": 43,
   "metadata": {},
   "outputs": [],
   "source": [
    "import pandas as pd\n",
    "import numpy as np\n",
    "import matplotlib.pyplot as plt\n",
    "import seaborn as sns\n",
    "import random"
   ]
  },
  {
   "cell_type": "code",
   "execution_count": 2,
   "metadata": {},
   "outputs": [],
   "source": [
    "def score_percentage(score):\n",
    "    return ((score / 50) * 100)"
   ]
  },
  {
   "cell_type": "code",
   "execution_count": 3,
   "metadata": {},
   "outputs": [],
   "source": [
    "def assign_grade(score_percentage):\n",
    "    if score_percentage >= 70:\n",
    "        grade = \"A\"\n",
    "    elif score_percentage >= 60:\n",
    "        grade = \"B\"\n",
    "    else:\n",
    "        grade = \"C\"\n",
    "    return (grade)"
   ]
  },
  {
   "cell_type": "code",
   "execution_count": 4,
   "metadata": {},
   "outputs": [],
   "source": [
    "tab = pd.read_csv(\"student_data.txt\", sep=\"\\t\")"
   ]
  },
  {
   "cell_type": "code",
   "execution_count": 5,
   "metadata": {},
   "outputs": [
    {
     "data": {
      "text/html": [
       "<div>\n",
       "<style scoped>\n",
       "    .dataframe tbody tr th:only-of-type {\n",
       "        vertical-align: middle;\n",
       "    }\n",
       "\n",
       "    .dataframe tbody tr th {\n",
       "        vertical-align: top;\n",
       "    }\n",
       "\n",
       "    .dataframe thead th {\n",
       "        text-align: right;\n",
       "    }\n",
       "</style>\n",
       "<table border=\"1\" class=\"dataframe\">\n",
       "  <thead>\n",
       "    <tr style=\"text-align: right;\">\n",
       "      <th></th>\n",
       "      <th>Name</th>\n",
       "      <th>Age</th>\n",
       "      <th>Score</th>\n",
       "    </tr>\n",
       "  </thead>\n",
       "  <tbody>\n",
       "    <tr>\n",
       "      <th>0</th>\n",
       "      <td>Jim</td>\n",
       "      <td>15</td>\n",
       "      <td>40.8</td>\n",
       "    </tr>\n",
       "    <tr>\n",
       "      <th>1</th>\n",
       "      <td>Mary</td>\n",
       "      <td>24</td>\n",
       "      <td>10.0</td>\n",
       "    </tr>\n",
       "    <tr>\n",
       "      <th>2</th>\n",
       "      <td>Hank</td>\n",
       "      <td>17</td>\n",
       "      <td>25.2</td>\n",
       "    </tr>\n",
       "    <tr>\n",
       "      <th>3</th>\n",
       "      <td>Billy</td>\n",
       "      <td>31</td>\n",
       "      <td>48.4</td>\n",
       "    </tr>\n",
       "    <tr>\n",
       "      <th>4</th>\n",
       "      <td>Jane</td>\n",
       "      <td>33</td>\n",
       "      <td>27.0</td>\n",
       "    </tr>\n",
       "    <tr>\n",
       "      <th>5</th>\n",
       "      <td>Samantha</td>\n",
       "      <td>33</td>\n",
       "      <td>30.9</td>\n",
       "    </tr>\n",
       "    <tr>\n",
       "      <th>6</th>\n",
       "      <td>Jean</td>\n",
       "      <td>41</td>\n",
       "      <td>12.1</td>\n",
       "    </tr>\n",
       "    <tr>\n",
       "      <th>7</th>\n",
       "      <td>Betty</td>\n",
       "      <td>84</td>\n",
       "      <td>5.2</td>\n",
       "    </tr>\n",
       "    <tr>\n",
       "      <th>8</th>\n",
       "      <td>Alice</td>\n",
       "      <td>10</td>\n",
       "      <td>8.3</td>\n",
       "    </tr>\n",
       "    <tr>\n",
       "      <th>9</th>\n",
       "      <td>Anne</td>\n",
       "      <td>16</td>\n",
       "      <td>47.4</td>\n",
       "    </tr>\n",
       "    <tr>\n",
       "      <th>10</th>\n",
       "      <td>Clare</td>\n",
       "      <td>25</td>\n",
       "      <td>30.7</td>\n",
       "    </tr>\n",
       "    <tr>\n",
       "      <th>11</th>\n",
       "      <td>Adam</td>\n",
       "      <td>21</td>\n",
       "      <td>20.1</td>\n",
       "    </tr>\n",
       "    <tr>\n",
       "      <th>12</th>\n",
       "      <td>Andrew</td>\n",
       "      <td>66</td>\n",
       "      <td>19.4</td>\n",
       "    </tr>\n",
       "    <tr>\n",
       "      <th>13</th>\n",
       "      <td>Charlotte</td>\n",
       "      <td>20</td>\n",
       "      <td>23.1</td>\n",
       "    </tr>\n",
       "  </tbody>\n",
       "</table>\n",
       "</div>"
      ],
      "text/plain": [
       "         Name  Age  Score\n",
       "0         Jim   15   40.8\n",
       "1        Mary   24   10.0\n",
       "2        Hank   17   25.2\n",
       "3       Billy   31   48.4\n",
       "4        Jane   33   27.0\n",
       "5    Samantha   33   30.9\n",
       "6        Jean   41   12.1\n",
       "7       Betty   84    5.2\n",
       "8       Alice   10    8.3\n",
       "9        Anne   16   47.4\n",
       "10      Clare   25   30.7\n",
       "11       Adam   21   20.1\n",
       "12     Andrew   66   19.4\n",
       "13  Charlotte   20   23.1"
      ]
     },
     "execution_count": 5,
     "metadata": {},
     "output_type": "execute_result"
    }
   ],
   "source": [
    "tab"
   ]
  },
  {
   "cell_type": "code",
   "execution_count": 8,
   "metadata": {},
   "outputs": [],
   "source": [
    "meanage = np.mean(tab['Age'])"
   ]
  },
  {
   "cell_type": "code",
   "execution_count": 9,
   "metadata": {},
   "outputs": [
    {
     "name": "stdout",
     "output_type": "stream",
     "text": [
      "31.142857142857142\n"
     ]
    }
   ],
   "source": [
    "print(meanage)"
   ]
  },
  {
   "cell_type": "code",
   "execution_count": 10,
   "metadata": {},
   "outputs": [],
   "source": [
    "meanscore = np.mean(tab['Score'])"
   ]
  },
  {
   "cell_type": "code",
   "execution_count": 11,
   "metadata": {},
   "outputs": [
    {
     "name": "stdout",
     "output_type": "stream",
     "text": [
      "24.900000000000002\n"
     ]
    }
   ],
   "source": [
    "print(meanscore)"
   ]
  },
  {
   "cell_type": "code",
   "execution_count": 12,
   "metadata": {},
   "outputs": [],
   "source": [
    "scoreperclist = list()\n",
    "for score in list(tab['Score']):\n",
    "    scoreperclist.append(score_percentage(score))"
   ]
  },
  {
   "cell_type": "code",
   "execution_count": 13,
   "metadata": {},
   "outputs": [],
   "source": [
    "tab['Score_Percentage'] = scoreperclist"
   ]
  },
  {
   "cell_type": "code",
   "execution_count": 21,
   "metadata": {},
   "outputs": [
    {
     "data": {
      "image/png": "[encoded data removed]",
      "text/plain": [
       "<Figure size 432x288 with 1 Axes>"
      ]
     },
     "metadata": {},
     "output_type": "display_data"
    }
   ],
   "source": [
    "plt.scatter(tab['Age'], tab['Score_Percentage'])\n",
    "sns.despine()\n",
    "plt.xlabel(\"Age\")\n",
    "plt.ylabel(\"Score Percentage\")\n",
    "plt.show()"
   ]
  },
  {
   "cell_type": "code",
   "execution_count": 22,
   "metadata": {},
   "outputs": [],
   "source": [
    "grades = list()\n",
    "for scoreperc in list(tab['Score_Percentage']):\n",
    "    grades.append(assign_grade(scoreperc))"
   ]
  },
  {
   "cell_type": "code",
   "execution_count": 25,
   "metadata": {},
   "outputs": [],
   "source": [
    "tab['Final_Grade'] = grades"
   ]
  },
  {
   "cell_type": "code",
   "execution_count": 26,
   "metadata": {},
   "outputs": [
    {
     "data": {
      "text/html": [
       "<div>\n",
       "<style scoped>\n",
       "    .dataframe tbody tr th:only-of-type {\n",
       "        vertical-align: middle;\n",
       "    }\n",
       "\n",
       "    .dataframe tbody tr th {\n",
       "        vertical-align: top;\n",
       "    }\n",
       "\n",
       "    .dataframe thead th {\n",
       "        text-align: right;\n",
       "    }\n",
       "</style>\n",
       "<table border=\"1\" class=\"dataframe\">\n",
       "  <thead>\n",
       "    <tr style=\"text-align: right;\">\n",
       "      <th></th>\n",
       "      <th>Name</th>\n",
       "      <th>Age</th>\n",
       "      <th>Score</th>\n",
       "      <th>Score_Percentage</th>\n",
       "      <th>Grade</th>\n",
       "      <th>Final_Grade</th>\n",
       "    </tr>\n",
       "  </thead>\n",
       "  <tbody>\n",
       "    <tr>\n",
       "      <th>0</th>\n",
       "      <td>Jim</td>\n",
       "      <td>15</td>\n",
       "      <td>40.8</td>\n",
       "      <td>81.6</td>\n",
       "      <td>A</td>\n",
       "      <td>A</td>\n",
       "    </tr>\n",
       "    <tr>\n",
       "      <th>1</th>\n",
       "      <td>Mary</td>\n",
       "      <td>24</td>\n",
       "      <td>10.0</td>\n",
       "      <td>20.0</td>\n",
       "      <td>C</td>\n",
       "      <td>C</td>\n",
       "    </tr>\n",
       "    <tr>\n",
       "      <th>2</th>\n",
       "      <td>Hank</td>\n",
       "      <td>17</td>\n",
       "      <td>25.2</td>\n",
       "      <td>50.4</td>\n",
       "      <td>C</td>\n",
       "      <td>C</td>\n",
       "    </tr>\n",
       "    <tr>\n",
       "      <th>3</th>\n",
       "      <td>Billy</td>\n",
       "      <td>31</td>\n",
       "      <td>48.4</td>\n",
       "      <td>96.8</td>\n",
       "      <td>A</td>\n",
       "      <td>A</td>\n",
       "    </tr>\n",
       "    <tr>\n",
       "      <th>4</th>\n",
       "      <td>Jane</td>\n",
       "      <td>33</td>\n",
       "      <td>27.0</td>\n",
       "      <td>54.0</td>\n",
       "      <td>C</td>\n",
       "      <td>C</td>\n",
       "    </tr>\n",
       "    <tr>\n",
       "      <th>5</th>\n",
       "      <td>Samantha</td>\n",
       "      <td>33</td>\n",
       "      <td>30.9</td>\n",
       "      <td>61.8</td>\n",
       "      <td>B</td>\n",
       "      <td>B</td>\n",
       "    </tr>\n",
       "    <tr>\n",
       "      <th>6</th>\n",
       "      <td>Jean</td>\n",
       "      <td>41</td>\n",
       "      <td>12.1</td>\n",
       "      <td>24.2</td>\n",
       "      <td>C</td>\n",
       "      <td>C</td>\n",
       "    </tr>\n",
       "    <tr>\n",
       "      <th>7</th>\n",
       "      <td>Betty</td>\n",
       "      <td>84</td>\n",
       "      <td>5.2</td>\n",
       "      <td>10.4</td>\n",
       "      <td>C</td>\n",
       "      <td>C</td>\n",
       "    </tr>\n",
       "    <tr>\n",
       "      <th>8</th>\n",
       "      <td>Alice</td>\n",
       "      <td>10</td>\n",
       "      <td>8.3</td>\n",
       "      <td>16.6</td>\n",
       "      <td>C</td>\n",
       "      <td>C</td>\n",
       "    </tr>\n",
       "    <tr>\n",
       "      <th>9</th>\n",
       "      <td>Anne</td>\n",
       "      <td>16</td>\n",
       "      <td>47.4</td>\n",
       "      <td>94.8</td>\n",
       "      <td>A</td>\n",
       "      <td>A</td>\n",
       "    </tr>\n",
       "    <tr>\n",
       "      <th>10</th>\n",
       "      <td>Clare</td>\n",
       "      <td>25</td>\n",
       "      <td>30.7</td>\n",
       "      <td>61.4</td>\n",
       "      <td>B</td>\n",
       "      <td>B</td>\n",
       "    </tr>\n",
       "    <tr>\n",
       "      <th>11</th>\n",
       "      <td>Adam</td>\n",
       "      <td>21</td>\n",
       "      <td>20.1</td>\n",
       "      <td>40.2</td>\n",
       "      <td>C</td>\n",
       "      <td>C</td>\n",
       "    </tr>\n",
       "    <tr>\n",
       "      <th>12</th>\n",
       "      <td>Andrew</td>\n",
       "      <td>66</td>\n",
       "      <td>19.4</td>\n",
       "      <td>38.8</td>\n",
       "      <td>C</td>\n",
       "      <td>C</td>\n",
       "    </tr>\n",
       "    <tr>\n",
       "      <th>13</th>\n",
       "      <td>Charlotte</td>\n",
       "      <td>20</td>\n",
       "      <td>23.1</td>\n",
       "      <td>46.2</td>\n",
       "      <td>C</td>\n",
       "      <td>C</td>\n",
       "    </tr>\n",
       "  </tbody>\n",
       "</table>\n",
       "</div>"
      ],
      "text/plain": [
       "         Name  Age  Score  Score_Percentage Grade Final_Grade\n",
       "0         Jim   15   40.8              81.6     A           A\n",
       "1        Mary   24   10.0              20.0     C           C\n",
       "2        Hank   17   25.2              50.4     C           C\n",
       "3       Billy   31   48.4              96.8     A           A\n",
       "4        Jane   33   27.0              54.0     C           C\n",
       "5    Samantha   33   30.9              61.8     B           B\n",
       "6        Jean   41   12.1              24.2     C           C\n",
       "7       Betty   84    5.2              10.4     C           C\n",
       "8       Alice   10    8.3              16.6     C           C\n",
       "9        Anne   16   47.4              94.8     A           A\n",
       "10      Clare   25   30.7              61.4     B           B\n",
       "11       Adam   21   20.1              40.2     C           C\n",
       "12     Andrew   66   19.4              38.8     C           C\n",
       "13  Charlotte   20   23.1              46.2     C           C"
      ]
     },
     "execution_count": 26,
     "metadata": {},
     "output_type": "execute_result"
    }
   ],
   "source": [
    "tab"
   ]
  },
  {
   "cell_type": "code",
   "execution_count": 30,
   "metadata": {},
   "outputs": [],
   "source": [
    "As = grades.count('A')"
   ]
  },
  {
   "cell_type": "code",
   "execution_count": 32,
   "metadata": {},
   "outputs": [],
   "source": [
    "Bs = grades.count('B')"
   ]
  },
  {
   "cell_type": "code",
   "execution_count": 33,
   "metadata": {},
   "outputs": [],
   "source": [
    "Cs = grades.count('C')"
   ]
  },
  {
   "cell_type": "code",
   "execution_count": 34,
   "metadata": {},
   "outputs": [],
   "source": [
    "allgrades = [As, Bs, Cs]"
   ]
  },
  {
   "cell_type": "code",
   "execution_count": 42,
   "metadata": {},
   "outputs": [
    {
     "data": {
      "image/png": "[encoded data removed]",
      "text/plain": [
       "<Figure size 432x288 with 1 Axes>"
      ]
     },
     "metadata": {},
     "output_type": "display_data"
    }
   ],
   "source": [
    "plt.bar(range(len(allgrades)), allgrades, color='red')\n",
    "sns.despine()\n",
    "plt.xticks([0, 1, 2], ['A', 'B', 'C'])\n",
    "plt.xlabel(\"Grade\")\n",
    "plt.ylabel(\"Frequency\")\n",
    "plt.savefig(\"grades_bar_chart.png\", bbox_inches='tight')\n",
    "plt.show()"
   ]
  },
  {
   "cell_type": "code",
   "execution_count": 44,
   "metadata": {},
   "outputs": [],
   "source": [
    "L = list()\n",
    "for item in range(len(tab)):\n",
    "    L.append(random.randint(0, 10000))"
   ]
  },
  {
   "cell_type": "code",
   "execution_count": 45,
   "metadata": {},
   "outputs": [],
   "source": [
    "tab['Random_ID'] = L"
   ]
  },
  {
   "cell_type": "code",
   "execution_count": 46,
   "metadata": {},
   "outputs": [
    {
     "data": {
      "text/html": [
       "<div>\n",
       "<style scoped>\n",
       "    .dataframe tbody tr th:only-of-type {\n",
       "        vertical-align: middle;\n",
       "    }\n",
       "\n",
       "    .dataframe tbody tr th {\n",
       "        vertical-align: top;\n",
       "    }\n",
       "\n",
       "    .dataframe thead th {\n",
       "        text-align: right;\n",
       "    }\n",
       "</style>\n",
       "<table border=\"1\" class=\"dataframe\">\n",
       "  <thead>\n",
       "    <tr style=\"text-align: right;\">\n",
       "      <th></th>\n",
       "      <th>Name</th>\n",
       "      <th>Age</th>\n",
       "      <th>Score</th>\n",
       "      <th>Score_Percentage</th>\n",
       "      <th>Grade</th>\n",
       "      <th>Final_Grade</th>\n",
       "      <th>Random_ID</th>\n",
       "    </tr>\n",
       "  </thead>\n",
       "  <tbody>\n",
       "    <tr>\n",
       "      <th>0</th>\n",
       "      <td>Jim</td>\n",
       "      <td>15</td>\n",
       "      <td>40.8</td>\n",
       "      <td>81.6</td>\n",
       "      <td>A</td>\n",
       "      <td>A</td>\n",
       "      <td>9526</td>\n",
       "    </tr>\n",
       "    <tr>\n",
       "      <th>1</th>\n",
       "      <td>Mary</td>\n",
       "      <td>24</td>\n",
       "      <td>10.0</td>\n",
       "      <td>20.0</td>\n",
       "      <td>C</td>\n",
       "      <td>C</td>\n",
       "      <td>7541</td>\n",
       "    </tr>\n",
       "    <tr>\n",
       "      <th>2</th>\n",
       "      <td>Hank</td>\n",
       "      <td>17</td>\n",
       "      <td>25.2</td>\n",
       "      <td>50.4</td>\n",
       "      <td>C</td>\n",
       "      <td>C</td>\n",
       "      <td>2409</td>\n",
       "    </tr>\n",
       "    <tr>\n",
       "      <th>3</th>\n",
       "      <td>Billy</td>\n",
       "      <td>31</td>\n",
       "      <td>48.4</td>\n",
       "      <td>96.8</td>\n",
       "      <td>A</td>\n",
       "      <td>A</td>\n",
       "      <td>9274</td>\n",
       "    </tr>\n",
       "    <tr>\n",
       "      <th>4</th>\n",
       "      <td>Jane</td>\n",
       "      <td>33</td>\n",
       "      <td>27.0</td>\n",
       "      <td>54.0</td>\n",
       "      <td>C</td>\n",
       "      <td>C</td>\n",
       "      <td>1838</td>\n",
       "    </tr>\n",
       "    <tr>\n",
       "      <th>5</th>\n",
       "      <td>Samantha</td>\n",
       "      <td>33</td>\n",
       "      <td>30.9</td>\n",
       "      <td>61.8</td>\n",
       "      <td>B</td>\n",
       "      <td>B</td>\n",
       "      <td>4888</td>\n",
       "    </tr>\n",
       "    <tr>\n",
       "      <th>6</th>\n",
       "      <td>Jean</td>\n",
       "      <td>41</td>\n",
       "      <td>12.1</td>\n",
       "      <td>24.2</td>\n",
       "      <td>C</td>\n",
       "      <td>C</td>\n",
       "      <td>5593</td>\n",
       "    </tr>\n",
       "    <tr>\n",
       "      <th>7</th>\n",
       "      <td>Betty</td>\n",
       "      <td>84</td>\n",
       "      <td>5.2</td>\n",
       "      <td>10.4</td>\n",
       "      <td>C</td>\n",
       "      <td>C</td>\n",
       "      <td>1253</td>\n",
       "    </tr>\n",
       "    <tr>\n",
       "      <th>8</th>\n",
       "      <td>Alice</td>\n",
       "      <td>10</td>\n",
       "      <td>8.3</td>\n",
       "      <td>16.6</td>\n",
       "      <td>C</td>\n",
       "      <td>C</td>\n",
       "      <td>5330</td>\n",
       "    </tr>\n",
       "    <tr>\n",
       "      <th>9</th>\n",
       "      <td>Anne</td>\n",
       "      <td>16</td>\n",
       "      <td>47.4</td>\n",
       "      <td>94.8</td>\n",
       "      <td>A</td>\n",
       "      <td>A</td>\n",
       "      <td>4787</td>\n",
       "    </tr>\n",
       "    <tr>\n",
       "      <th>10</th>\n",
       "      <td>Clare</td>\n",
       "      <td>25</td>\n",
       "      <td>30.7</td>\n",
       "      <td>61.4</td>\n",
       "      <td>B</td>\n",
       "      <td>B</td>\n",
       "      <td>1456</td>\n",
       "    </tr>\n",
       "    <tr>\n",
       "      <th>11</th>\n",
       "      <td>Adam</td>\n",
       "      <td>21</td>\n",
       "      <td>20.1</td>\n",
       "      <td>40.2</td>\n",
       "      <td>C</td>\n",
       "      <td>C</td>\n",
       "      <td>8304</td>\n",
       "    </tr>\n",
       "    <tr>\n",
       "      <th>12</th>\n",
       "      <td>Andrew</td>\n",
       "      <td>66</td>\n",
       "      <td>19.4</td>\n",
       "      <td>38.8</td>\n",
       "      <td>C</td>\n",
       "      <td>C</td>\n",
       "      <td>6425</td>\n",
       "    </tr>\n",
       "    <tr>\n",
       "      <th>13</th>\n",
       "      <td>Charlotte</td>\n",
       "      <td>20</td>\n",
       "      <td>23.1</td>\n",
       "      <td>46.2</td>\n",
       "      <td>C</td>\n",
       "      <td>C</td>\n",
       "      <td>2617</td>\n",
       "    </tr>\n",
       "  </tbody>\n",
       "</table>\n",
       "</div>"
      ],
      "text/plain": [
       "         Name  Age  Score  Score_Percentage Grade Final_Grade  Random_ID\n",
       "0         Jim   15   40.8              81.6     A           A       9526\n",
       "1        Mary   24   10.0              20.0     C           C       7541\n",
       "2        Hank   17   25.2              50.4     C           C       2409\n",
       "3       Billy   31   48.4              96.8     A           A       9274\n",
       "4        Jane   33   27.0              54.0     C           C       1838\n",
       "5    Samantha   33   30.9              61.8     B           B       4888\n",
       "6        Jean   41   12.1              24.2     C           C       5593\n",
       "7       Betty   84    5.2              10.4     C           C       1253\n",
       "8       Alice   10    8.3              16.6     C           C       5330\n",
       "9        Anne   16   47.4              94.8     A           A       4787\n",
       "10      Clare   25   30.7              61.4     B           B       1456\n",
       "11       Adam   21   20.1              40.2     C           C       8304\n",
       "12     Andrew   66   19.4              38.8     C           C       6425\n",
       "13  Charlotte   20   23.1              46.2     C           C       2617"
      ]
     },
     "execution_count": 46,
     "metadata": {},
     "output_type": "execute_result"
    }
   ],
   "source": [
    "tab"
   ]
  },
  {
   "cell_type": "code",
   "execution_count": 47,
   "metadata": {},
   "outputs": [],
   "source": [
    "tab.to_csv(\"student_data_parsed.txt\", sep=\"\\t\")"
   ]
  },
  {
   "cell_type": "code",
   "execution_count": 48,
   "metadata": {},
   "outputs": [],
   "source": [
    "for i in range(len(tab)):\n",
    "    nam = list(tab['Name'])[i]\n",
    "    scoreperc = list(tab['Score_Percentage'])[i]\n",
    "    grade = list(tab['Grade'])[i]\n",
    "    mystring = \"Dear %s\\nYour score was %.2f and your grade was %s\" % (nam, scoreperc, grade)\n",
    "    out = open(\"%s.tsv\" % nam, \"w\")\n",
    "    out.write(mystring)\n",
    "    out.close()"
   ]
  },
  {
   "cell_type": "code",
   "execution_count": null,
   "metadata": {},
   "outputs": [],
   "source": []
  }
 ],
 "metadata": {
  "kernelspec": {
   "display_name": "Python 3",
   "language": "python",
   "name": "python3"
  },
  "language_info": {
   "codemirror_mode": {
    "name": "ipython",
    "version": 3
   },
   "file_extension": ".py",
   "mimetype": "text/x-python",
   "name": "python",
   "nbconvert_exporter": "python",
   "pygments_lexer": "ipython3",
   "version": "3.6.3"
  }
 },
 "nbformat": 4,
 "nbformat_minor": 2
}
