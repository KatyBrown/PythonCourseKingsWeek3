{
 "cells": [
  {
   "cell_type": "markdown",
   "metadata": {},
   "source": [
    "# Workshop 3"
   ]
  },
  {
   "cell_type": "markdown",
   "metadata": {},
   "source": [
    "## User Defined Functions"
   ]
  },
  {
   "cell_type": "markdown",
   "metadata": {},
   "source": [
    "As well as the functions built in to Python, sometimes we want to write our own functions.\n",
    "\n",
    "There are two main reasons for this:\n",
    "* If you want to repeat the same task lots of times, it is easier to use a function that copy and paste the same piece of code.\n",
    "* When you are writing longer scripts, it is easier to read code if it is divided into function."
   ]
  },
  {
   "cell_type": "markdown",
   "metadata": {},
   "source": [
    "A function has an input and an output.  We define a function using the `def` command."
   ]
  },
  {
   "cell_type": "code",
   "execution_count": 1,
   "metadata": {},
   "outputs": [],
   "source": [
    "def myfunction(mystring):\n",
    "    newstring = \"%s is my string\" % mystring\n",
    "    return newstring"
   ]
  },
  {
   "cell_type": "markdown",
   "metadata": {},
   "source": [
    "When you run this code, Python loads the function into its memory, but doesn't actually run the function - it is just stored reading to use.\n",
    "The input for the function above is `mystring` and the output is `newstring`.\n",
    "\n",
    "The `return` value of a function another name for its output. You can assign the output of a function to a variable."
   ]
  },
  {
   "cell_type": "code",
   "execution_count": 2,
   "metadata": {},
   "outputs": [
    {
     "name": "stdout",
     "output_type": "stream",
     "text": [
      "hello is my string\n"
     ]
    }
   ],
   "source": [
    "x = myfunction('hello')\n",
    "print (x)"
   ]
  },
  {
   "cell_type": "code",
   "execution_count": 3,
   "metadata": {},
   "outputs": [
    {
     "name": "stdout",
     "output_type": "stream",
     "text": [
      "goodbye is my string\n"
     ]
    }
   ],
   "source": [
    "y = 'goodbye'\n",
    "x = myfunction(y)\n",
    "print (x)"
   ]
  },
  {
   "cell_type": "markdown",
   "metadata": {},
   "source": [
    "To define functions, we need to rememeber the concept of `arguments` as the input to functions.\n",
    "\n",
    "The names that you give to the arguments when you pass them to the function do not need to be the same as the arguments inside the function.  This can be slightly confusing."
   ]
  },
  {
   "cell_type": "code",
   "execution_count": 4,
   "metadata": {},
   "outputs": [],
   "source": [
    "def another_function(x, y):\n",
    "    tot = x + y\n",
    "    return (tot)"
   ]
  },
  {
   "cell_type": "code",
   "execution_count": 5,
   "metadata": {},
   "outputs": [
    {
     "data": {
      "text/plain": [
       "3"
      ]
     },
     "execution_count": 5,
     "metadata": {},
     "output_type": "execute_result"
    }
   ],
   "source": [
    "another_function(1, 2)"
   ]
  },
  {
   "cell_type": "code",
   "execution_count": 6,
   "metadata": {},
   "outputs": [
    {
     "data": {
      "text/plain": [
       "3"
      ]
     },
     "execution_count": 6,
     "metadata": {},
     "output_type": "execute_result"
    }
   ],
   "source": [
    "v = 1\n",
    "w = 2\n",
    "another_function(v, w)"
   ]
  },
  {
   "cell_type": "code",
   "execution_count": 7,
   "metadata": {},
   "outputs": [
    {
     "data": {
      "text/plain": [
       "3"
      ]
     },
     "execution_count": 7,
     "metadata": {},
     "output_type": "execute_result"
    }
   ],
   "source": [
    "v = 1\n",
    "w = 2\n",
    "another_function(x=v, y=w)"
   ]
  },
  {
   "cell_type": "markdown",
   "metadata": {},
   "source": [
    "Just like for in-built functions, the function decides which argument is which based on either their order or the names inside the brackets when you call the function."
   ]
  },
  {
   "cell_type": "markdown",
   "metadata": {},
   "source": [
    "**Exercise** \n",
    "\n",
    "Write a function which returns the mean of two numbers and call the function in Python.\n",
    "\n",
    "*Bonus: Write and call a function which returns the mean of any number of integers, using a for loop and a list as an argument.*"
   ]
  },
  {
   "cell_type": "markdown",
   "metadata": {},
   "source": [
    "Inside a function we can combine several steps.\n",
    "\n",
    "For example, this function checks how many lines are inside a file."
   ]
  },
  {
   "cell_type": "code",
   "execution_count": 8,
   "metadata": {},
   "outputs": [],
   "source": [
    "def countLines(infile):\n",
    "    lines = open(infile).readlines()\n",
    "    x = 0\n",
    "    for line in lines:\n",
    "        x += 1\n",
    "    return (x)"
   ]
  },
  {
   "cell_type": "code",
   "execution_count": 9,
   "metadata": {},
   "outputs": [
    {
     "data": {
      "text/plain": [
       "4"
      ]
     },
     "execution_count": 9,
     "metadata": {},
     "output_type": "execute_result"
    }
   ],
   "source": [
    "countLines('lines1.txt')"
   ]
  },
  {
   "cell_type": "code",
   "execution_count": 10,
   "metadata": {},
   "outputs": [
    {
     "data": {
      "text/plain": [
       "5"
      ]
     },
     "execution_count": 10,
     "metadata": {},
     "output_type": "execute_result"
    }
   ],
   "source": [
    "countLines('lines2.txt')"
   ]
  },
  {
   "cell_type": "markdown",
   "metadata": {},
   "source": [
    "We can add to this function to instead return True if the number of lines is even or False is the number of lines is odd."
   ]
  },
  {
   "cell_type": "code",
   "execution_count": null,
   "metadata": {},
   "outputs": [],
   "source": []
  },
  {
   "cell_type": "code",
   "execution_count": 11,
   "metadata": {},
   "outputs": [],
   "source": [
    "def countLinesOddEven(infile):\n",
    "    lines = open(infile).readlines()\n",
    "    x = 0\n",
    "    for line in lines:\n",
    "        x += 1\n",
    "    if x % 2 == 0:\n",
    "        iseven = True\n",
    "    else:\n",
    "        iseven = False\n",
    "    return (iseven)"
   ]
  },
  {
   "cell_type": "code",
   "execution_count": 12,
   "metadata": {},
   "outputs": [
    {
     "data": {
      "text/plain": [
       "True"
      ]
     },
     "execution_count": 12,
     "metadata": {},
     "output_type": "execute_result"
    }
   ],
   "source": [
    "countLinesOddEven('lines1.txt')"
   ]
  },
  {
   "cell_type": "code",
   "execution_count": 13,
   "metadata": {},
   "outputs": [
    {
     "data": {
      "text/plain": [
       "False"
      ]
     },
     "execution_count": 13,
     "metadata": {},
     "output_type": "execute_result"
    }
   ],
   "source": [
    "countLinesOddEven('lines2.txt')"
   ]
  },
  {
   "cell_type": "markdown",
   "metadata": {},
   "source": [
    "**Exercise**\n",
    "* Modify the function to return the total number of characters in the file (you can use the `len` function to find the number of characters in a string).\n",
    "\n",
    "*Bonus: Instead, return a list of the lengths of all the lines in the file*"
   ]
  },
  {
   "cell_type": "markdown",
   "metadata": {},
   "source": [
    "It's also possible to generate functions which have no arguments, or functions which return nothing.  These are sometimes useful."
   ]
  },
  {
   "cell_type": "markdown",
   "metadata": {},
   "source": [
    "For example, if you always need the same list of column names for your file, you can use a function to get them each time."
   ]
  },
  {
   "cell_type": "code",
   "execution_count": 14,
   "metadata": {},
   "outputs": [],
   "source": [
    "def getColumnNames():\n",
    "    return ([\"name\", \"start_position\", \"end_position\", \"strand\"])"
   ]
  },
  {
   "cell_type": "code",
   "execution_count": 15,
   "metadata": {},
   "outputs": [
    {
     "name": "stdout",
     "output_type": "stream",
     "text": [
      "['name', 'start_position', 'end_position', 'strand']\n"
     ]
    }
   ],
   "source": [
    "x = getColumnNames()\n",
    "print (x)"
   ]
  },
  {
   "cell_type": "markdown",
   "metadata": {},
   "source": [
    "If you do something to the output file inside the function you may not need to return anything."
   ]
  },
  {
   "cell_type": "code",
   "execution_count": 16,
   "metadata": {},
   "outputs": [],
   "source": [
    "def removeSpaces(infile, outfile):\n",
    "    inf = open(infile).readlines()\n",
    "    out = open(outfile, \"w\")\n",
    "    for line in inf:\n",
    "        out.write(line.replace(\" \", \"\"))\n",
    "    out.close()"
   ]
  },
  {
   "cell_type": "code",
   "execution_count": 17,
   "metadata": {},
   "outputs": [],
   "source": [
    "removeSpaces('removespaces.txt', \"nospaces.txt\")"
   ]
  },
  {
   "cell_type": "markdown",
   "metadata": {},
   "source": [
    "If you look at the file `nospaces.txt` you will see the result of running this function."
   ]
  },
  {
   "cell_type": "markdown",
   "metadata": {},
   "source": [
    "## Pandas"
   ]
  },
  {
   "cell_type": "markdown",
   "metadata": {},
   "source": [
    "We will now briefly look at a specific Python module - `pandas` - for dealing with dataframes (tables of data), as it is often useful."
   ]
  },
  {
   "cell_type": "markdown",
   "metadata": {},
   "source": [
    "The convention is to rename `pandas` as `pd` when we import it."
   ]
  },
  {
   "cell_type": "code",
   "execution_count": 18,
   "metadata": {},
   "outputs": [],
   "source": [
    "import pandas as pd"
   ]
  },
  {
   "cell_type": "markdown",
   "metadata": {},
   "source": [
    "Pandas can be used to read, write and parse tab or comma delimited tables."
   ]
  },
  {
   "cell_type": "markdown",
   "metadata": {},
   "source": [
    "These are text files where the columns are seperated by either tabs or commas."
   ]
  },
  {
   "cell_type": "markdown",
   "metadata": {},
   "source": [
    "We can read a table using the `pd.read_csv` function."
   ]
  },
  {
   "cell_type": "code",
   "execution_count": 19,
   "metadata": {},
   "outputs": [],
   "source": [
    "comma_delim = pd.read_csv(\"commadelim.txt\")"
   ]
  },
  {
   "cell_type": "markdown",
   "metadata": {},
   "source": [
    "In Jupyter, if you just type the name of a `pandas` dataframe it will display it nicely."
   ]
  },
  {
   "cell_type": "code",
   "execution_count": 20,
   "metadata": {},
   "outputs": [
    {
     "data": {
      "text/html": [
       "<div>\n",
       "<style scoped>\n",
       "    .dataframe tbody tr th:only-of-type {\n",
       "        vertical-align: middle;\n",
       "    }\n",
       "\n",
       "    .dataframe tbody tr th {\n",
       "        vertical-align: top;\n",
       "    }\n",
       "\n",
       "    .dataframe thead th {\n",
       "        text-align: right;\n",
       "    }\n",
       "</style>\n",
       "<table border=\"1\" class=\"dataframe\">\n",
       "  <thead>\n",
       "    <tr style=\"text-align: right;\">\n",
       "      <th></th>\n",
       "      <th>Name</th>\n",
       "      <th>Age</th>\n",
       "      <th>Location</th>\n",
       "    </tr>\n",
       "  </thead>\n",
       "  <tbody>\n",
       "    <tr>\n",
       "      <th>0</th>\n",
       "      <td>Katy</td>\n",
       "      <td>33</td>\n",
       "      <td>Cambridge</td>\n",
       "    </tr>\n",
       "    <tr>\n",
       "      <th>1</th>\n",
       "      <td>Mary</td>\n",
       "      <td>75</td>\n",
       "      <td>London</td>\n",
       "    </tr>\n",
       "    <tr>\n",
       "      <th>2</th>\n",
       "      <td>Bob</td>\n",
       "      <td>44</td>\n",
       "      <td>Oxford</td>\n",
       "    </tr>\n",
       "  </tbody>\n",
       "</table>\n",
       "</div>"
      ],
      "text/plain": [
       "   Name  Age   Location\n",
       "0  Katy   33  Cambridge\n",
       "1  Mary   75     London\n",
       "2   Bob   44     Oxford"
      ]
     },
     "execution_count": 20,
     "metadata": {},
     "output_type": "execute_result"
    }
   ],
   "source": [
    "comma_delim"
   ]
  },
  {
   "cell_type": "markdown",
   "metadata": {},
   "source": [
    "For a tab delimited table we have to add an extra argument, to tell Python that the table is tab delimited.\n",
    "\n",
    "`\\t` represents a tab character in Python."
   ]
  },
  {
   "cell_type": "code",
   "execution_count": 21,
   "metadata": {},
   "outputs": [],
   "source": [
    "tab_delim = pd.read_csv(\"tabdelim.txt\", sep=\"\\t\")"
   ]
  },
  {
   "cell_type": "code",
   "execution_count": 22,
   "metadata": {},
   "outputs": [
    {
     "data": {
      "text/html": [
       "<div>\n",
       "<style scoped>\n",
       "    .dataframe tbody tr th:only-of-type {\n",
       "        vertical-align: middle;\n",
       "    }\n",
       "\n",
       "    .dataframe tbody tr th {\n",
       "        vertical-align: top;\n",
       "    }\n",
       "\n",
       "    .dataframe thead th {\n",
       "        text-align: right;\n",
       "    }\n",
       "</style>\n",
       "<table border=\"1\" class=\"dataframe\">\n",
       "  <thead>\n",
       "    <tr style=\"text-align: right;\">\n",
       "      <th></th>\n",
       "      <th>Name</th>\n",
       "      <th>Age</th>\n",
       "      <th>Location</th>\n",
       "    </tr>\n",
       "  </thead>\n",
       "  <tbody>\n",
       "    <tr>\n",
       "      <th>0</th>\n",
       "      <td>Katy</td>\n",
       "      <td>33</td>\n",
       "      <td>Cambridge</td>\n",
       "    </tr>\n",
       "    <tr>\n",
       "      <th>1</th>\n",
       "      <td>Mary</td>\n",
       "      <td>75</td>\n",
       "      <td>London</td>\n",
       "    </tr>\n",
       "    <tr>\n",
       "      <th>2</th>\n",
       "      <td>Bob</td>\n",
       "      <td>44</td>\n",
       "      <td>Oxford</td>\n",
       "    </tr>\n",
       "  </tbody>\n",
       "</table>\n",
       "</div>"
      ],
      "text/plain": [
       "   Name  Age   Location\n",
       "0  Katy   33  Cambridge\n",
       "1  Mary   75     London\n",
       "2   Bob   44     Oxford"
      ]
     },
     "execution_count": 22,
     "metadata": {},
     "output_type": "execute_result"
    }
   ],
   "source": [
    "tab_delim"
   ]
  },
  {
   "cell_type": "markdown",
   "metadata": {},
   "source": [
    "We can easily sort tables in pandas with the `sort_values` method."
   ]
  },
  {
   "cell_type": "code",
   "execution_count": 23,
   "metadata": {},
   "outputs": [],
   "source": [
    "tab_delim = tab_delim.sort_values('Age')"
   ]
  },
  {
   "cell_type": "code",
   "execution_count": 24,
   "metadata": {},
   "outputs": [
    {
     "data": {
      "text/html": [
       "<div>\n",
       "<style scoped>\n",
       "    .dataframe tbody tr th:only-of-type {\n",
       "        vertical-align: middle;\n",
       "    }\n",
       "\n",
       "    .dataframe tbody tr th {\n",
       "        vertical-align: top;\n",
       "    }\n",
       "\n",
       "    .dataframe thead th {\n",
       "        text-align: right;\n",
       "    }\n",
       "</style>\n",
       "<table border=\"1\" class=\"dataframe\">\n",
       "  <thead>\n",
       "    <tr style=\"text-align: right;\">\n",
       "      <th></th>\n",
       "      <th>Name</th>\n",
       "      <th>Age</th>\n",
       "      <th>Location</th>\n",
       "    </tr>\n",
       "  </thead>\n",
       "  <tbody>\n",
       "    <tr>\n",
       "      <th>0</th>\n",
       "      <td>Katy</td>\n",
       "      <td>33</td>\n",
       "      <td>Cambridge</td>\n",
       "    </tr>\n",
       "    <tr>\n",
       "      <th>2</th>\n",
       "      <td>Bob</td>\n",
       "      <td>44</td>\n",
       "      <td>Oxford</td>\n",
       "    </tr>\n",
       "    <tr>\n",
       "      <th>1</th>\n",
       "      <td>Mary</td>\n",
       "      <td>75</td>\n",
       "      <td>London</td>\n",
       "    </tr>\n",
       "  </tbody>\n",
       "</table>\n",
       "</div>"
      ],
      "text/plain": [
       "   Name  Age   Location\n",
       "0  Katy   33  Cambridge\n",
       "2   Bob   44     Oxford\n",
       "1  Mary   75     London"
      ]
     },
     "execution_count": 24,
     "metadata": {},
     "output_type": "execute_result"
    }
   ],
   "source": [
    "tab_delim"
   ]
  },
  {
   "cell_type": "markdown",
   "metadata": {},
   "source": [
    "It's also easy to delete or add a row or column"
   ]
  },
  {
   "cell_type": "markdown",
   "metadata": {},
   "source": [
    "We can delete rows or columns using the `drop` method.  It refers to rows as axis 0 and columns as axis 1."
   ]
  },
  {
   "cell_type": "markdown",
   "metadata": {},
   "source": [
    "We access rows using the row number from the left side of the table."
   ]
  },
  {
   "cell_type": "code",
   "execution_count": 25,
   "metadata": {},
   "outputs": [],
   "source": [
    "tab_delim = tab_delim.drop(0, axis=0)"
   ]
  },
  {
   "cell_type": "code",
   "execution_count": 26,
   "metadata": {},
   "outputs": [
    {
     "data": {
      "text/html": [
       "<div>\n",
       "<style scoped>\n",
       "    .dataframe tbody tr th:only-of-type {\n",
       "        vertical-align: middle;\n",
       "    }\n",
       "\n",
       "    .dataframe tbody tr th {\n",
       "        vertical-align: top;\n",
       "    }\n",
       "\n",
       "    .dataframe thead th {\n",
       "        text-align: right;\n",
       "    }\n",
       "</style>\n",
       "<table border=\"1\" class=\"dataframe\">\n",
       "  <thead>\n",
       "    <tr style=\"text-align: right;\">\n",
       "      <th></th>\n",
       "      <th>Name</th>\n",
       "      <th>Age</th>\n",
       "      <th>Location</th>\n",
       "    </tr>\n",
       "  </thead>\n",
       "  <tbody>\n",
       "    <tr>\n",
       "      <th>2</th>\n",
       "      <td>Bob</td>\n",
       "      <td>44</td>\n",
       "      <td>Oxford</td>\n",
       "    </tr>\n",
       "    <tr>\n",
       "      <th>1</th>\n",
       "      <td>Mary</td>\n",
       "      <td>75</td>\n",
       "      <td>London</td>\n",
       "    </tr>\n",
       "  </tbody>\n",
       "</table>\n",
       "</div>"
      ],
      "text/plain": [
       "   Name  Age Location\n",
       "2   Bob   44   Oxford\n",
       "1  Mary   75   London"
      ]
     },
     "execution_count": 26,
     "metadata": {},
     "output_type": "execute_result"
    }
   ],
   "source": [
    "tab_delim"
   ]
  },
  {
   "cell_type": "markdown",
   "metadata": {},
   "source": [
    "We access columns using the column names."
   ]
  },
  {
   "cell_type": "code",
   "execution_count": 27,
   "metadata": {},
   "outputs": [],
   "source": [
    "tab_delim = tab_delim.drop('Name', axis=1)"
   ]
  },
  {
   "cell_type": "code",
   "execution_count": 28,
   "metadata": {},
   "outputs": [
    {
     "data": {
      "text/html": [
       "<div>\n",
       "<style scoped>\n",
       "    .dataframe tbody tr th:only-of-type {\n",
       "        vertical-align: middle;\n",
       "    }\n",
       "\n",
       "    .dataframe tbody tr th {\n",
       "        vertical-align: top;\n",
       "    }\n",
       "\n",
       "    .dataframe thead th {\n",
       "        text-align: right;\n",
       "    }\n",
       "</style>\n",
       "<table border=\"1\" class=\"dataframe\">\n",
       "  <thead>\n",
       "    <tr style=\"text-align: right;\">\n",
       "      <th></th>\n",
       "      <th>Age</th>\n",
       "      <th>Location</th>\n",
       "    </tr>\n",
       "  </thead>\n",
       "  <tbody>\n",
       "    <tr>\n",
       "      <th>2</th>\n",
       "      <td>44</td>\n",
       "      <td>Oxford</td>\n",
       "    </tr>\n",
       "    <tr>\n",
       "      <th>1</th>\n",
       "      <td>75</td>\n",
       "      <td>London</td>\n",
       "    </tr>\n",
       "  </tbody>\n",
       "</table>\n",
       "</div>"
      ],
      "text/plain": [
       "   Age Location\n",
       "2   44   Oxford\n",
       "1   75   London"
      ]
     },
     "execution_count": 28,
     "metadata": {},
     "output_type": "execute_result"
    }
   ],
   "source": [
    "tab_delim"
   ]
  },
  {
   "cell_type": "markdown",
   "metadata": {},
   "source": [
    "To add a column or row, we can use a list.\n",
    "\n",
    "For columns, we give the column name we want to add in square brackets after the table variable name."
   ]
  },
  {
   "cell_type": "code",
   "execution_count": 29,
   "metadata": {},
   "outputs": [],
   "source": [
    "tab_delim['Name'] = ['Bob', 'Mary']"
   ]
  },
  {
   "cell_type": "code",
   "execution_count": 30,
   "metadata": {},
   "outputs": [
    {
     "data": {
      "text/html": [
       "<div>\n",
       "<style scoped>\n",
       "    .dataframe tbody tr th:only-of-type {\n",
       "        vertical-align: middle;\n",
       "    }\n",
       "\n",
       "    .dataframe tbody tr th {\n",
       "        vertical-align: top;\n",
       "    }\n",
       "\n",
       "    .dataframe thead th {\n",
       "        text-align: right;\n",
       "    }\n",
       "</style>\n",
       "<table border=\"1\" class=\"dataframe\">\n",
       "  <thead>\n",
       "    <tr style=\"text-align: right;\">\n",
       "      <th></th>\n",
       "      <th>Age</th>\n",
       "      <th>Location</th>\n",
       "      <th>Name</th>\n",
       "    </tr>\n",
       "  </thead>\n",
       "  <tbody>\n",
       "    <tr>\n",
       "      <th>2</th>\n",
       "      <td>44</td>\n",
       "      <td>Oxford</td>\n",
       "      <td>Bob</td>\n",
       "    </tr>\n",
       "    <tr>\n",
       "      <th>1</th>\n",
       "      <td>75</td>\n",
       "      <td>London</td>\n",
       "      <td>Mary</td>\n",
       "    </tr>\n",
       "  </tbody>\n",
       "</table>\n",
       "</div>"
      ],
      "text/plain": [
       "   Age Location  Name\n",
       "2   44   Oxford   Bob\n",
       "1   75   London  Mary"
      ]
     },
     "execution_count": 30,
     "metadata": {},
     "output_type": "execute_result"
    }
   ],
   "source": [
    "tab_delim"
   ]
  },
  {
   "cell_type": "markdown",
   "metadata": {},
   "source": [
    "For rows, we do the same but we add `.loc` before the first square bracket."
   ]
  },
  {
   "cell_type": "code",
   "execution_count": 31,
   "metadata": {},
   "outputs": [],
   "source": [
    "tab_delim.loc[0] = [33, 'Cambridge', 'Katy']"
   ]
  },
  {
   "cell_type": "code",
   "execution_count": 32,
   "metadata": {},
   "outputs": [
    {
     "data": {
      "text/html": [
       "<div>\n",
       "<style scoped>\n",
       "    .dataframe tbody tr th:only-of-type {\n",
       "        vertical-align: middle;\n",
       "    }\n",
       "\n",
       "    .dataframe tbody tr th {\n",
       "        vertical-align: top;\n",
       "    }\n",
       "\n",
       "    .dataframe thead th {\n",
       "        text-align: right;\n",
       "    }\n",
       "</style>\n",
       "<table border=\"1\" class=\"dataframe\">\n",
       "  <thead>\n",
       "    <tr style=\"text-align: right;\">\n",
       "      <th></th>\n",
       "      <th>Age</th>\n",
       "      <th>Location</th>\n",
       "      <th>Name</th>\n",
       "    </tr>\n",
       "  </thead>\n",
       "  <tbody>\n",
       "    <tr>\n",
       "      <th>2</th>\n",
       "      <td>44</td>\n",
       "      <td>Oxford</td>\n",
       "      <td>Bob</td>\n",
       "    </tr>\n",
       "    <tr>\n",
       "      <th>1</th>\n",
       "      <td>75</td>\n",
       "      <td>London</td>\n",
       "      <td>Mary</td>\n",
       "    </tr>\n",
       "    <tr>\n",
       "      <th>0</th>\n",
       "      <td>33</td>\n",
       "      <td>Cambridge</td>\n",
       "      <td>Katy</td>\n",
       "    </tr>\n",
       "  </tbody>\n",
       "</table>\n",
       "</div>"
      ],
      "text/plain": [
       "   Age   Location  Name\n",
       "2   44     Oxford   Bob\n",
       "1   75     London  Mary\n",
       "0   33  Cambridge  Katy"
      ]
     },
     "execution_count": 32,
     "metadata": {},
     "output_type": "execute_result"
    }
   ],
   "source": [
    "tab_delim"
   ]
  },
  {
   "cell_type": "markdown",
   "metadata": {},
   "source": [
    "We access the data in the rows and columns in a similar way."
   ]
  },
  {
   "cell_type": "code",
   "execution_count": 33,
   "metadata": {},
   "outputs": [
    {
     "data": {
      "text/plain": [
       "2    44\n",
       "1    75\n",
       "0    33\n",
       "Name: Age, dtype: int64"
      ]
     },
     "execution_count": 33,
     "metadata": {},
     "output_type": "execute_result"
    }
   ],
   "source": [
    "tab_delim['Age']"
   ]
  },
  {
   "cell_type": "code",
   "execution_count": 34,
   "metadata": {},
   "outputs": [
    {
     "data": {
      "text/plain": [
       "Age             44\n",
       "Location    Oxford\n",
       "Name           Bob\n",
       "Name: 2, dtype: object"
      ]
     },
     "execution_count": 34,
     "metadata": {},
     "output_type": "execute_result"
    }
   ],
   "source": [
    "tab_delim.loc[2]"
   ]
  },
  {
   "cell_type": "markdown",
   "metadata": {},
   "source": [
    "If we want to use this data, for example in a loop, it can be easier to convert it to a list first.  The list will always be in the same order as the data in the table."
   ]
  },
  {
   "cell_type": "code",
   "execution_count": 35,
   "metadata": {},
   "outputs": [
    {
     "name": "stdout",
     "output_type": "stream",
     "text": [
      "[44, 75, 33]\n"
     ]
    }
   ],
   "source": [
    "ages = list(tab_delim['Age'])\n",
    "print (ages)"
   ]
  },
  {
   "cell_type": "code",
   "execution_count": 36,
   "metadata": {},
   "outputs": [
    {
     "name": "stdout",
     "output_type": "stream",
     "text": [
      "[44, 'Oxford', 'Bob']\n"
     ]
    }
   ],
   "source": [
    "bobs_data = list(tab_delim.loc[2])\n",
    "print (bobs_data)"
   ]
  },
  {
   "cell_type": "markdown",
   "metadata": {},
   "source": [
    "To write a table to file, we used the table name plus the `to_csv` variable."
   ]
  },
  {
   "cell_type": "code",
   "execution_count": 37,
   "metadata": {},
   "outputs": [],
   "source": [
    "tab_delim.to_csv(\"mytable.tsv\", sep=\"\\t\")"
   ]
  },
  {
   "cell_type": "markdown",
   "metadata": {},
   "source": [
    "Regardless of the input file format, the output file will be comma delimited unless we specify `sep=\"\\t\"`"
   ]
  },
  {
   "cell_type": "markdown",
   "metadata": {},
   "source": [
    "**Exercise**\n",
    "* Make a tab delimited table in a text editor and save it in the folder with your notebook.  Make sure there are column headings and at least one column is numerical (integers or floats).\n",
    "* Read the table into Python\n",
    "* Sort the table by the numerical column\n",
    "* Add a new column in Python\n",
    "* Add a new row in Python\n",
    "* Delete a column\n",
    "* Add a column\n",
    "* Output the new table to a text file.\n",
    "\n",
    "*Bonus: Try to make an additional column with a transformation applied to the numerical column, e.g. add 1 to all the numbers and put this in a new column.*"
   ]
  },
  {
   "cell_type": "markdown",
   "metadata": {},
   "source": [
    "# Plotting"
   ]
  },
  {
   "cell_type": "markdown",
   "metadata": {},
   "source": [
    "It is possible to draw graphs directly in Python, this makes it much easier to update the graphs when you update your data.\n",
    "\n",
    "To do this we'll use a module called `matplotlib`"
   ]
  },
  {
   "cell_type": "markdown",
   "metadata": {},
   "source": [
    "The simplest way to use matplotlib is with the interactive `plt` command."
   ]
  },
  {
   "cell_type": "code",
   "execution_count": 38,
   "metadata": {},
   "outputs": [],
   "source": [
    "import matplotlib.pyplot as plt"
   ]
  },
  {
   "cell_type": "code",
   "execution_count": 39,
   "metadata": {},
   "outputs": [],
   "source": [
    "import seaborn as sns"
   ]
  },
  {
   "cell_type": "markdown",
   "metadata": {},
   "source": [
    "First we'll make two lists of random integers, so that we have something to plot.\n",
    "\n",
    "We need to import the random module to be able to do this."
   ]
  },
  {
   "cell_type": "code",
   "execution_count": 40,
   "metadata": {},
   "outputs": [],
   "source": [
    "import random"
   ]
  },
  {
   "cell_type": "markdown",
   "metadata": {},
   "source": [
    "We can generate the numbers in a for loop and store them in a list."
   ]
  },
  {
   "cell_type": "code",
   "execution_count": 41,
   "metadata": {},
   "outputs": [],
   "source": [
    "data1 = list()\n",
    "data2 = list()\n",
    "for i in range(0, 50):\n",
    "    data1.append(random.randint(0, 100))\n",
    "    data2.append(random.randint(0, 100))"
   ]
  },
  {
   "cell_type": "code",
   "execution_count": 42,
   "metadata": {},
   "outputs": [
    {
     "name": "stdout",
     "output_type": "stream",
     "text": [
      "[66, 87, 49, 99, 65, 85, 3, 32, 63, 55, 73, 18, 39, 40, 48, 56, 9, 45, 81, 90, 17, 53, 23, 85, 58, 66, 20, 81, 8, 67, 69, 41, 16, 37, 18, 3, 68, 40, 62, 4, 27, 69, 96, 96, 38, 92, 53, 97, 4, 18]\n"
     ]
    }
   ],
   "source": [
    "print (data1)"
   ]
  },
  {
   "cell_type": "code",
   "execution_count": 43,
   "metadata": {},
   "outputs": [
    {
     "name": "stdout",
     "output_type": "stream",
     "text": [
      "[71, 85, 25, 35, 42, 28, 67, 63, 22, 7, 56, 73, 65, 9, 88, 67, 73, 79, 86, 42, 15, 51, 81, 69, 19, 55, 18, 12, 3, 12, 81, 42, 78, 45, 21, 23, 95, 86, 18, 87, 68, 31, 46, 41, 2, 12, 84, 43, 71, 78]\n"
     ]
    }
   ],
   "source": [
    "print (data2)"
   ]
  },
  {
   "cell_type": "markdown",
   "metadata": {},
   "source": [
    "The most simple `plt` command is just to plot a line graph of a dataset."
   ]
  },
  {
   "cell_type": "code",
   "execution_count": 44,
   "metadata": {},
   "outputs": [
    {
     "data": {
      "image/png": "[encoded data removed]",
      "text/plain": [
       "<Figure size 432x288 with 1 Axes>"
      ]
     },
     "metadata": {},
     "output_type": "display_data"
    }
   ],
   "source": [
    "# plot the first set of data points\n",
    "plt.plot(data1)\n",
    "\n",
    "# Remove extra axis\n",
    "sns.despine()\n",
    "\n",
    "# Save the file as \"test.png\"\n",
    "plt.savefig(\"test.png\", bbox_inches='tight')\n",
    "\n",
    "# show the plot and remove it from memory\n",
    "plt.show()\n"
   ]
  },
  {
   "cell_type": "markdown",
   "metadata": {},
   "source": [
    "We can edit this plot in various ways.  We need to regenerate the plot each time, because after using plt.show() matplotlib no longer stores the plot in memory.  This also means we always need to save the plot before displaying it."
   ]
  },
  {
   "cell_type": "markdown",
   "metadata": {},
   "source": [
    "We can easily add additional datasets to the plot."
   ]
  },
  {
   "cell_type": "code",
   "execution_count": 45,
   "metadata": {},
   "outputs": [
    {
     "data": {
      "image/png": "[encoded data removed]",
      "text/plain": [
       "<Figure size 432x288 with 1 Axes>"
      ]
     },
     "metadata": {},
     "output_type": "display_data"
    }
   ],
   "source": [
    "# plot the first set of data points\n",
    "plt.plot(data1)\n",
    "\n",
    "# plot the second set of data points\n",
    "plt.plot(data2)\n",
    "\n",
    "# Remove extra axis\n",
    "sns.despine()\n",
    "\n",
    "# Save the file as \"test.png\"\n",
    "plt.savefig(\"test.png\", bbox_inches='tight')\n",
    "\n",
    "# show the plot and remove it from memory\n",
    "plt.show()\n"
   ]
  },
  {
   "cell_type": "code",
   "execution_count": 46,
   "metadata": {},
   "outputs": [
    {
     "data": {
      "image/png": "[encoded data removed]",
      "text/plain": [
       "<Figure size 432x288 with 1 Axes>"
      ]
     },
     "metadata": {},
     "output_type": "display_data"
    }
   ],
   "source": [
    "# plot the first set of data points\n",
    "plt.plot(data1)\n",
    "\n",
    "# plot the second set of data points\n",
    "plt.plot(data2)\n",
    "\n",
    "# Remove extra axis\n",
    "sns.despine()\n",
    "\n",
    "# Label the x and y axis\n",
    "plt.xlabel(\"Day\")\n",
    "plt.ylabel(\"Frequency\")\n",
    "\n",
    "# Set the axis limits\n",
    "plt.xlim([0, 30])\n",
    "plt.ylim([0, 150])\n",
    "\n",
    "# Add a title\n",
    "plt.title(\"My Graph\")\n",
    "\n",
    "# Save the file as \"test.png\"\n",
    "plt.savefig(\"test.png\", bbox_inches='tight')\n",
    "\n",
    "# show the plot and remove it from memory\n",
    "plt.show()\n"
   ]
  },
  {
   "cell_type": "markdown",
   "metadata": {},
   "source": [
    "You can change the colours using the argument `color`."
   ]
  },
  {
   "cell_type": "code",
   "execution_count": 47,
   "metadata": {},
   "outputs": [
    {
     "data": {
      "image/png": "[encoded data removed]",
      "text/plain": [
       "<Figure size 432x288 with 1 Axes>"
      ]
     },
     "metadata": {},
     "output_type": "display_data"
    }
   ],
   "source": [
    "# plot the first set of data points\n",
    "plt.plot(data1, color='red')\n",
    "\n",
    "# plot the second set of data points\n",
    "plt.plot(data2, color='blue')\n",
    "\n",
    "# Remove extra axis\n",
    "sns.despine()\n",
    "\n",
    "# Label the x and y axis\n",
    "plt.xlabel(\"Day\")\n",
    "plt.ylabel(\"Frequency\")\n",
    "\n",
    "# Set the axis limits\n",
    "plt.xlim([0, 30])\n",
    "plt.ylim([0, 150])\n",
    "\n",
    "# Add a title\n",
    "plt.title(\"My Graph\")\n",
    "\n",
    "# Save the file as \"test.png\"\n",
    "plt.savefig(\"test.png\", bbox_inches='tight')\n",
    "\n",
    "# show the plot and remove it from memory\n",
    "plt.show()"
   ]
  },
  {
   "cell_type": "markdown",
   "metadata": {},
   "source": [
    "You can set the positions and labels on the `ticks` on the x and y axis."
   ]
  },
  {
   "cell_type": "code",
   "execution_count": 48,
   "metadata": {},
   "outputs": [
    {
     "data": {
      "image/png": "[encoded data removed]",
      "text/plain": [
       "<Figure size 432x288 with 1 Axes>"
      ]
     },
     "metadata": {},
     "output_type": "display_data"
    }
   ],
   "source": [
    "# plot the first set of data points\n",
    "plt.plot(data1, color='red')\n",
    "\n",
    "# plot the second set of data points\n",
    "plt.plot(data2, color='blue')\n",
    "\n",
    "# Remove extra axis\n",
    "sns.despine()\n",
    "\n",
    "# Label the x and y axis\n",
    "plt.xlabel(\"Day\")\n",
    "plt.ylabel(\"Frequency\")\n",
    "\n",
    "# Set the axis limits\n",
    "plt.xlim([0, 30])\n",
    "plt.ylim([0, 150])\n",
    "\n",
    "# Set the x and y tick positions and labels\n",
    "plt.xticks([0, 15, 30], ['Start', 'Middle', 'End'])\n",
    "plt.yticks([0, 100, 150], ['Low', 'Medium', 'High'])\n",
    "\n",
    "# Add a title\n",
    "plt.title(\"My Graph\")\n",
    "\n",
    "# Save the file as \"test.png\"\n",
    "plt.savefig(\"test.png\", bbox_inches='tight')\n",
    "\n",
    "# show the plot and remove it from memory\n",
    "plt.show()"
   ]
  },
  {
   "cell_type": "markdown",
   "metadata": {},
   "source": [
    "**Exercise**\n",
    "* Generate three sets of 100 random integers.\n",
    "* Plot them using `matplotlib`.\n",
    "* Change the axis ylabels and title.\n",
    "* Change the colours.\n",
    "* Change the positions and labels of the ticks on the y axis.\n",
    "* Save the plot.\n",
    "* View the plot.\n",
    "\n",
    " *Bonus: Store the three sets of integers in a dictionary and use the dictionary in the `plt` function calls.  Use a second dictionary to store the colour for each data series*"
   ]
  },
  {
   "cell_type": "markdown",
   "metadata": {},
   "source": [
    "You can also generate other types of plot and change the parameters in a similar way."
   ]
  },
  {
   "cell_type": "markdown",
   "metadata": {},
   "source": [
    "For a bar chart, you need to generate a `range` to set the positions of the bars on the x axis."
   ]
  },
  {
   "cell_type": "code",
   "execution_count": 49,
   "metadata": {},
   "outputs": [
    {
     "data": {
      "image/png": "[encoded data removed]",
      "text/plain": [
       "<Figure size 432x288 with 1 Axes>"
      ]
     },
     "metadata": {},
     "output_type": "display_data"
    }
   ],
   "source": [
    "n = range(0, len(data1))\n",
    "plt.bar(n, data1, color='red')\n",
    "plt.title(\"Bar Chart\")\n",
    "sns.despine()\n",
    "plt.show()"
   ]
  },
  {
   "cell_type": "markdown",
   "metadata": {},
   "source": [
    "For a scatter plot, you always need two data series and you provide the x positions as the first argument and the y positions as the second argument."
   ]
  },
  {
   "cell_type": "code",
   "execution_count": 50,
   "metadata": {},
   "outputs": [
    {
     "data": {
      "image/png": "[encoded data removed]",
      "text/plain": [
       "<Figure size 432x288 with 1 Axes>"
      ]
     },
     "metadata": {},
     "output_type": "display_data"
    }
   ],
   "source": [
    "plt.scatter(data1, data2)\n",
    "plt.title(\"Scatter Plot\")\n",
    "sns.despine()\n",
    "plt.show()"
   ]
  },
  {
   "cell_type": "markdown",
   "metadata": {},
   "source": [
    "For a pie chart we'll use the first few data points in the list."
   ]
  },
  {
   "cell_type": "code",
   "execution_count": 51,
   "metadata": {},
   "outputs": [
    {
     "data": {
      "image/png": "[encoded data removed]",
      "text/plain": [
       "<Figure size 432x288 with 1 Axes>"
      ]
     },
     "metadata": {},
     "output_type": "display_data"
    }
   ],
   "source": [
    "plt.pie(data1[0:6])\n",
    "plt.axis('equal') # make the x and y axis the same length\n",
    "plt.show()"
   ]
  },
  {
   "cell_type": "markdown",
   "metadata": {},
   "source": [
    "**Exercise**\n",
    "\n",
    "Generate your own bar chart, pie chart and scatter plot.\n",
    "\n",
    "*Bonus: Use the `plt.hist` function to generate a histogram*"
   ]
  },
  {
   "cell_type": "markdown",
   "metadata": {},
   "source": [
    "There is much more information about matplotlib in another tutorial I wrote here:\n",
    "    https://cgatoxford.wordpress.com/2017/05/10/matplotlib-tutorial/, plus on the matplotlib website https://matplotlib.org/."
   ]
  },
  {
   "cell_type": "markdown",
   "metadata": {},
   "source": [
    "# Other Useful Methods"
   ]
  },
  {
   "cell_type": "markdown",
   "metadata": {},
   "source": [
    "## Strings"
   ]
  },
  {
   "cell_type": "markdown",
   "metadata": {},
   "source": [
    "`split`: Split a string into a list based on a character in the string."
   ]
  },
  {
   "cell_type": "code",
   "execution_count": 52,
   "metadata": {},
   "outputs": [],
   "source": [
    "x = 'This_Is_My_String'\n",
    "xbits = x.split(\"_\")"
   ]
  },
  {
   "cell_type": "code",
   "execution_count": 53,
   "metadata": {},
   "outputs": [
    {
     "name": "stdout",
     "output_type": "stream",
     "text": [
      "['This', 'Is', 'My', 'String']\n"
     ]
    }
   ],
   "source": [
    "print (xbits)"
   ]
  },
  {
   "cell_type": "markdown",
   "metadata": {},
   "source": [
    "`join`: Join strings together using a character.  For some reason this is used the other way around."
   ]
  },
  {
   "cell_type": "code",
   "execution_count": 54,
   "metadata": {},
   "outputs": [],
   "source": [
    "y = \"!\".join(xbits)"
   ]
  },
  {
   "cell_type": "code",
   "execution_count": 55,
   "metadata": {},
   "outputs": [
    {
     "name": "stdout",
     "output_type": "stream",
     "text": [
      "This!Is!My!String\n"
     ]
    }
   ],
   "source": [
    "print (y)"
   ]
  },
  {
   "cell_type": "markdown",
   "metadata": {},
   "source": [
    "`replace`: Replace part of the string with something else"
   ]
  },
  {
   "cell_type": "code",
   "execution_count": 56,
   "metadata": {},
   "outputs": [],
   "source": [
    "z = y.replace(\"!\", \"!!!!!!\")"
   ]
  },
  {
   "cell_type": "code",
   "execution_count": 57,
   "metadata": {},
   "outputs": [
    {
     "name": "stdout",
     "output_type": "stream",
     "text": [
      "This!!!!!!Is!!!!!!My!!!!!!String\n"
     ]
    }
   ],
   "source": [
    "print (z)"
   ]
  },
  {
   "cell_type": "markdown",
   "metadata": {},
   "source": [
    "`find`: Find the position of a substring in a string (gives the first position only)."
   ]
  },
  {
   "cell_type": "code",
   "execution_count": 58,
   "metadata": {},
   "outputs": [
    {
     "name": "stdout",
     "output_type": "stream",
     "text": [
      "4\n"
     ]
    }
   ],
   "source": [
    "print(z.find(\"!\"))"
   ]
  },
  {
   "cell_type": "markdown",
   "metadata": {},
   "source": [
    "`count`: Count the number of times a substring occurs in a string."
   ]
  },
  {
   "cell_type": "code",
   "execution_count": 59,
   "metadata": {},
   "outputs": [
    {
     "name": "stdout",
     "output_type": "stream",
     "text": [
      "18\n"
     ]
    }
   ],
   "source": [
    "print(z.count(\"!\"))"
   ]
  },
  {
   "cell_type": "markdown",
   "metadata": {},
   "source": [
    "`upper` makes everything upper case"
   ]
  },
  {
   "cell_type": "code",
   "execution_count": 60,
   "metadata": {},
   "outputs": [
    {
     "data": {
      "text/plain": [
       "'THIS!!!!!!IS!!!!!!MY!!!!!!STRING'"
      ]
     },
     "execution_count": 60,
     "metadata": {},
     "output_type": "execute_result"
    }
   ],
   "source": [
    "z.upper()"
   ]
  },
  {
   "cell_type": "markdown",
   "metadata": {},
   "source": [
    "`lower` makes everything lower case"
   ]
  },
  {
   "cell_type": "code",
   "execution_count": 61,
   "metadata": {},
   "outputs": [
    {
     "data": {
      "text/plain": [
       "'this!!!!!!is!!!!!!my!!!!!!string'"
      ]
     },
     "execution_count": 61,
     "metadata": {},
     "output_type": "execute_result"
    }
   ],
   "source": [
    "z.lower()"
   ]
  },
  {
   "cell_type": "markdown",
   "metadata": {},
   "source": [
    "## Floats"
   ]
  },
  {
   "cell_type": "markdown",
   "metadata": {},
   "source": [
    "`round`: rounds the float to a certain number of decimal places"
   ]
  },
  {
   "cell_type": "code",
   "execution_count": 62,
   "metadata": {},
   "outputs": [],
   "source": [
    "x = 0.035125"
   ]
  },
  {
   "cell_type": "code",
   "execution_count": 63,
   "metadata": {},
   "outputs": [
    {
     "data": {
      "text/plain": [
       "0.03513"
      ]
     },
     "execution_count": 63,
     "metadata": {},
     "output_type": "execute_result"
    }
   ],
   "source": [
    "round(x, 5)"
   ]
  },
  {
   "cell_type": "markdown",
   "metadata": {},
   "source": [
    "`math.ceil` rounds a float to the integer above."
   ]
  },
  {
   "cell_type": "code",
   "execution_count": 64,
   "metadata": {},
   "outputs": [
    {
     "data": {
      "text/plain": [
       "1"
      ]
     },
     "execution_count": 64,
     "metadata": {},
     "output_type": "execute_result"
    }
   ],
   "source": [
    "import math\n",
    "math.ceil(x)"
   ]
  },
  {
   "cell_type": "markdown",
   "metadata": {},
   "source": [
    "`math.floor` rounds a float to the integer below."
   ]
  },
  {
   "cell_type": "code",
   "execution_count": 65,
   "metadata": {},
   "outputs": [
    {
     "data": {
      "text/plain": [
       "0"
      ]
     },
     "execution_count": 65,
     "metadata": {},
     "output_type": "execute_result"
    }
   ],
   "source": [
    "math.floor(x)"
   ]
  },
  {
   "cell_type": "markdown",
   "metadata": {},
   "source": [
    "## Lists"
   ]
  },
  {
   "cell_type": "markdown",
   "metadata": {},
   "source": [
    "`extend` appends a list to another list"
   ]
  },
  {
   "cell_type": "code",
   "execution_count": 66,
   "metadata": {},
   "outputs": [],
   "source": [
    "L1 = ['a', 'b', 'c', 'd']\n",
    "L2 = ['A', 'B', 'C', 'D']"
   ]
  },
  {
   "cell_type": "code",
   "execution_count": 67,
   "metadata": {},
   "outputs": [],
   "source": [
    "L1.extend(L2)"
   ]
  },
  {
   "cell_type": "markdown",
   "metadata": {},
   "source": [
    "`enumerate` automatically generates an index for each item in a list."
   ]
  },
  {
   "cell_type": "code",
   "execution_count": 68,
   "metadata": {},
   "outputs": [
    {
     "name": "stdout",
     "output_type": "stream",
     "text": [
      "(0, 'a')\n",
      "(1, 'b')\n",
      "(2, 'c')\n",
      "(3, 'd')\n",
      "(4, 'A')\n",
      "(5, 'B')\n",
      "(6, 'C')\n",
      "(7, 'D')\n"
     ]
    }
   ],
   "source": [
    "for item in enumerate(L1):\n",
    "    print (item)"
   ]
  },
  {
   "cell_type": "markdown",
   "metadata": {},
   "source": [
    "## Dictionaries"
   ]
  },
  {
   "cell_type": "markdown",
   "metadata": {},
   "source": [
    "`update` combines two dictionaries (the second dictionary will replace items in the first with the same key)"
   ]
  },
  {
   "cell_type": "code",
   "execution_count": 69,
   "metadata": {},
   "outputs": [],
   "source": [
    "x = {'a': 1, 'b': 2, 'c': 4}\n",
    "y = {'c': 6, 'd': 8}"
   ]
  },
  {
   "cell_type": "code",
   "execution_count": 70,
   "metadata": {},
   "outputs": [],
   "source": [
    "x.update(y)"
   ]
  },
  {
   "cell_type": "code",
   "execution_count": 71,
   "metadata": {},
   "outputs": [
    {
     "name": "stdout",
     "output_type": "stream",
     "text": [
      "{'a': 1, 'b': 2, 'c': 6, 'd': 8}\n"
     ]
    }
   ],
   "source": [
    "print (x)"
   ]
  },
  {
   "cell_type": "markdown",
   "metadata": {},
   "source": [
    "# Some common modules to look up"
   ]
  },
  {
   "cell_type": "markdown",
   "metadata": {},
   "source": [
    "* re - regular expression operations: https://docs.python.org/3/library/re.html\n",
    "* os - operating system functions: https://docs.python.org/3/library/os.html\n",
    "* shutil - file operations (e.g. copying and moving files): https://docs.python.org/3/library/shutil.html?\n",
    "* glob - finding files using wildcards: https://docs.python.org/3/library/glob.html\n",
    "* importlib - additional import options: https://docs.python.org/3/library/importlib.html\n",
    "* math - mathematical functions: https://docs.python.org/3/library/math.html\n",
    "* sys - system options and parameters: https://docs.python.org/3/library/sys.html"
   ]
  },
  {
   "cell_type": "markdown",
   "metadata": {},
   "source": [
    "# Final Exercise"
   ]
  },
  {
   "cell_type": "markdown",
   "metadata": {},
   "source": [
    "* Read the tab delimited table `student_data.txt` into Python using pandas\n",
    "* Display the table in jupyter\n",
    "* Import the module `numpy` and use the `numpy.mean` function to calculate the mean age and mean score.\n",
    "* Write a function called `score_percentage` which returns the score as a percentage of 50.\n",
    "* Using a `for` loop calculate the score percentage for each person and store it in a list.\n",
    "* Add this list to a table column called \"Score_Percentage\"\n",
    "* Plot the score percentage using `matplotlib`, with student names as labels on the x axis and score percentage on the y axis\n",
    "* Write a function to assign each student a score of \"A\" if their score percentage is greater than or equal to 70, \"B\" if their score percentage is greater than or equal to 60 but less than 70 and \"C\" if their score percentage is less than 60.\n",
    "* Use this function to generate a \"Final_Grade\" column and add it to the table\n",
    "* Plot a bar chart using matplotlib to show how many students got an \"A\", how many got a \"B\" and how many got a \"C\".  Change the colour and save the bar chart.\n",
    "* Assign each student a random ID number using the random.randint function and add these to the table.\n",
    "* Store the table in a tab delimted output file.\n",
    "* Using string formatting and a `for` loop, make an output file called [Name].txt for each student which says \"Dear [Name], your score was [score_percentage] and your grade was [Final_Grade]\", based on the data in the table (fill in the square brackets with the correct data)."
   ]
  },
  {
   "cell_type": "code",
   "execution_count": null,
   "metadata": {},
   "outputs": [],
   "source": []
  },
  {
   "cell_type": "markdown",
   "metadata": {},
   "source": [
    "# Resources"
   ]
  },
  {
   "cell_type": "markdown",
   "metadata": {},
   "source": [
    "**Online Material**\n",
    "\n",
    "https://docs.python.org has the official documentation for all Python functions and modules.\n",
    "\n",
    "* Software Carpentry: http://swcarpentry.github.io/python-novice-inflammation/\n",
    "\n",
    "    Beginner's Python course with some additional content (especially debugging)\n",
    "\n",
    "\n",
    "* Codeacademy http://www.codeacademy.com\n",
    "\n",
    "    Interactive course for beginners\n",
    "\n",
    "\n",
    "* Learn Pandas: https://bitbucket.org/hrojas/learn-pandas\n",
    "\n",
    "    Lots of additional information about using pandas dataframes\n",
    "\n",
    "\n",
    "* Numpy: https://docs.scipy.org/doc/numpy/user/quickstart.html\n",
    "\n",
    "    Arrays, matrices and numerical operations\n",
    "\n",
    "\n",
    "* Datacamp: http://www.datacamp.com\n",
    "\n",
    "    Lots of courses about specific aspects of Python and other languages.  Not free.\n",
    "\n",
    "\n",
    "* Learn Python http://www.learnpython.org\n",
    "\n",
    "\n",
    "* Coursera (http://www.coursera.org/courses?query=python), EdX (https://www.edx.org/learn/python) and YouTube have lots of different courses.\n",
    "\n",
    "    I would recommend:\n",
    "\n",
    "    http://www.coursera.org/learn/python For beginners\n",
    "\n",
    "    https://www.edx.org/course/introduction-to-computer-science-and-programming-using-python-0 Slightly more complex and computer science orientated\n",
    "\n",
    "\n"
   ]
  },
  {
   "cell_type": "markdown",
   "metadata": {},
   "source": [
    "** Forums **\n",
    "* Stack Overflow: http://www.stackoverflow.com\n",
    "\n",
    "    Scary but comprehensive\n",
    " \n",
    " \n",
    "* Reddit Learn Python http://www.reddit.com/r/learnpython/\n",
    "    \n",
    "    More accessible"
   ]
  },
  {
   "cell_type": "markdown",
   "metadata": {},
   "source": [
    "** Exercises **\n",
    "* http://www.reddit.com/r/dailyprogrammer/\n",
    "* http://www.leetcode.com/problemset/all/\n",
    "* http://www.codingbat.com/python\n",
    "* http://rosalind.info"
   ]
  },
  {
   "cell_type": "markdown",
   "metadata": {},
   "source": [
    "**Books**\n",
    "* Learn Python the Hard Way http://www.souravsengupta.com/cds2015/python/LPTHW.pdf\n",
    "* Python for Biologists http://userpages.fu-berlin.de/digga/p4b.pdf and Advanced Python for Biologists \n",
    "* Learn Python http://mmc.geofisica.unam.mx/edp/Herramientas/Lenguajes/Python/Learning%20Python,%205th%20Edition.pdf"
   ]
  },
  {
   "cell_type": "code",
   "execution_count": null,
   "metadata": {},
   "outputs": [],
   "source": []
  }
 ],
 "metadata": {
  "kernelspec": {
   "display_name": "Python 3",
   "language": "python",
   "name": "python3"
  },
  "language_info": {
   "codemirror_mode": {
    "name": "ipython",
    "version": 3
   },
   "file_extension": ".py",
   "mimetype": "text/x-python",
   "name": "python",
   "nbconvert_exporter": "python",
   "pygments_lexer": "ipython3",
   "version": "3.6.3"
  }
 },
 "nbformat": 4,
 "nbformat_minor": 2
}
